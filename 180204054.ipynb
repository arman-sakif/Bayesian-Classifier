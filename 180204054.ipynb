{
  "nbformat": 4,
  "nbformat_minor": 0,
  "metadata": {
    "colab": {
      "provenance": []
    },
    "kernelspec": {
      "display_name": "Python 3",
      "name": "python3"
    },
    "language_info": {
      "name": "python"
    }
  },
  "cells": [
    {
      "cell_type": "code",
      "metadata": {
        "id": "sy-0t6YBHnoO"
      },
      "source": [
        "import pandas as pd\n",
        "import numpy as np\n",
        "import matplotlib.pyplot as plt\n",
        "\n",
        "import plotly.graph_objs as go\n",
        "import plotly.express as px"
      ],
      "execution_count": 2,
      "outputs": []
    },
    {
      "cell_type": "code",
      "source": [
        "main_directory  = '/content/test-Minimum-Error-Rate-Classifier.txt'\n",
        "\n",
        "df1 = pd.read_csv(main_directory, sep=\",\" , header = None)\n",
        "print(df1)"
      ],
      "metadata": {
        "colab": {
          "base_uri": "https://localhost:8080/"
        },
        "id": "EMb2vpuqbwOk",
        "outputId": "753b008b-a3f9-45b1-add3-51bd4de83c4e"
      },
      "execution_count": 3,
      "outputs": [
        {
          "output_type": "stream",
          "name": "stdout",
          "text": [
            "   0    1\n",
            "0  1  1.0\n",
            "1  1 -1.0\n",
            "2  4  5.0\n",
            "3 -2  2.5\n",
            "4  0  2.0\n",
            "5  2 -3.0\n"
          ]
        }
      ]
    },
    {
      "cell_type": "code",
      "source": [
        "from sklearn import preprocessing\n",
        "import pandas as pd\n",
        "d = df1.iloc[:,:].apply( lambda f: ( f - f.mean() )/( f.max() - f.min() ) )\n",
        "scaled_df = pd.DataFrame(d)\n",
        "print(scaled_df)"
      ],
      "metadata": {
        "colab": {
          "base_uri": "https://localhost:8080/"
        },
        "id": "vg_Hj14ZaxN9",
        "outputId": "c4a9a49d-aa68-4634-e38b-ea657f5f1788"
      },
      "execution_count": 4,
      "outputs": [
        {
          "output_type": "stream",
          "name": "stdout",
          "text": [
            "          0         1\n",
            "0  0.000000 -0.010417\n",
            "1  0.000000 -0.260417\n",
            "2  0.500000  0.489583\n",
            "3 -0.500000  0.177083\n",
            "4 -0.166667  0.114583\n",
            "5  0.166667 -0.510417\n"
          ]
        }
      ]
    },
    {
      "cell_type": "code",
      "source": [
        "x=scaled_df.mean(axis = 0) \n",
        "print(list(x)) "
      ],
      "metadata": {
        "colab": {
          "base_uri": "https://localhost:8080/"
        },
        "id": "oR8t92zqbqm2",
        "outputId": "5e5d918f-1e86-445a-90bc-43b392b1a5ad"
      },
      "execution_count": 7,
      "outputs": [
        {
          "output_type": "stream",
          "name": "stdout",
          "text": [
            "[0.0, 3.700743415417188e-17]\n"
          ]
        }
      ]
    },
    {
      "cell_type": "code",
      "source": [
        "x2=scaled_df.cov()\n",
        "print(x2)"
      ],
      "metadata": {
        "colab": {
          "base_uri": "https://localhost:8080/"
        },
        "id": "REVu0_Fbc7b0",
        "outputId": "c516a028-7e92-45fd-dec4-fd29f81d8b9a"
      },
      "execution_count": 8,
      "outputs": [
        {
          "output_type": "stream",
          "name": "stdout",
          "text": [
            "          0         1\n",
            "0  0.111111  0.010417\n",
            "1  0.010417  0.122526\n"
          ]
        }
      ]
    },
    {
      "cell_type": "code",
      "metadata": {
        "id": "cDvCgYJ2IgaJ"
      },
      "source": [
        "testX = scaled_df.iloc[:, 0:2]\n",
        "testX = np.array(testX)"
      ],
      "execution_count": 16,
      "outputs": []
    },
    {
      "cell_type": "code",
      "metadata": {
        "id": "POIab2dLVW-O"
      },
      "source": [
        "priorOmega1 = 0.5\n",
        "meanClass1 = np.array(x)\n",
        "varainceClass1 = np.array(x2)\n",
        "priorOmega2 = 0.5\n",
        "meanClass2 = np.array(x)\n",
        "varainceClass2 = np.array(x2)"
      ],
      "execution_count": 17,
      "outputs": []
    },
    {
      "cell_type": "code",
      "metadata": {
        "id": "ngG11Ab5Gmqf"
      },
      "source": [
        "def normal(x, mean, variance):\n",
        "  out = np.zeros((x.shape[0],))\n",
        "  for i in range(x.shape[0]):\n",
        "    _x = x[i, :]\n",
        "    out[i,] = np.exp(- 0.5 * np.dot(_x - mean, np.dot(np.linalg.inv(variance), (_x - mean).T))) / (((2 * 3.14) ** x.shape[1]) * np.linalg.det(variance)) ** 0.5\n",
        "  return out"
      ],
      "execution_count": 18,
      "outputs": []
    },
    {
      "cell_type": "code",
      "metadata": {
        "colab": {
          "base_uri": "https://localhost:8080/"
        },
        "id": "JAYqPAnq2oWi",
        "outputId": "97cf232b-3e3f-4f1f-f033-fe0ec69afe08"
      },
      "source": [
        "dataPoint = pd.DataFrame(columns = ['X1', 'X2', 'Probability Density Function', 'Size', 'Symbol', 'Color'])\n",
        "symbol = []\n",
        "norm1 = normal(testX, meanClass1, varainceClass1) * priorOmega1\n",
        "norm2 = normal(testX, meanClass2, varainceClass2) * priorOmega2\n",
        "for i in range(testX.shape[0]):\n",
        "  print(testX[i, :], 'are in', end = ' ')\n",
        "  if norm1[i] > norm2[i]:\n",
        "    dataPoint.loc[len(dataPoint)] = [testX[i, 0], testX[i, 1], norm1[i], 0.5, 'Class 1', '#00bfff']\n",
        "    print('Class 1')\n",
        "    symbol.append('x')\n",
        "  else:\n",
        "    dataPoint.loc[len(dataPoint)] = [testX[i, 0], testX[i, 1], norm2[i], 0.5, 'Class 2', '#8fbc8f']\n",
        "    print('Class 2')\n",
        "    symbol.append('square')"
      ],
      "execution_count": 19,
      "outputs": [
        {
          "output_type": "stream",
          "name": "stdout",
          "text": [
            "[ 0.         -0.01041667] are in Class 2\n",
            "[ 0.         -0.26041667] are in Class 2\n",
            "[0.5        0.48958333] are in Class 2\n",
            "[-0.5         0.17708333] are in Class 2\n",
            "[-0.16666667  0.11458333] are in Class 2\n",
            "[ 0.16666667 -0.51041667] are in Class 2\n"
          ]
        }
      ]
    }
  ]
}